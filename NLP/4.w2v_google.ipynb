{
 "cells": [
  {
   "cell_type": "markdown",
   "metadata": {},
   "source": [
    "### Pretrained Google's w2v model"
   ]
  },
  {
   "cell_type": "code",
   "execution_count": 1,
   "metadata": {},
   "outputs": [],
   "source": [
    "import gensim\n",
    "from gensim.models import Word2Vec,KeyedVectors"
   ]
  },
  {
   "cell_type": "code",
   "execution_count": 2,
   "metadata": {},
   "outputs": [],
   "source": [
    "model = KeyedVectors.load_word2vec_format(\"GoogleNews-vectors-negative300.bin.gz\", binary=True)"
   ]
  },
  {
   "cell_type": "code",
   "execution_count": 5,
   "metadata": {},
   "outputs": [
    {
     "data": {
      "text/plain": [
       "gensim.models.keyedvectors.KeyedVectors"
      ]
     },
     "execution_count": 5,
     "metadata": {},
     "output_type": "execute_result"
    }
   ],
   "source": [
    "type(model)"
   ]
  },
  {
   "cell_type": "code",
   "execution_count": 8,
   "metadata": {
    "scrolled": true
   },
   "outputs": [
    {
     "data": {
      "text/plain": [
       "array([ 0.26757812,  0.29296875,  0.06298828,  0.50390625,  0.11865234,\n",
       "       -0.08886719,  0.09814453, -0.3515625 ,  0.17578125, -0.14355469,\n",
       "       -0.12451172, -0.09326172, -0.18066406,  0.22070312,  0.16308594,\n",
       "        0.38476562,  0.02075195,  0.13769531,  0.27148438, -0.30273438,\n",
       "        0.12695312,  0.07617188,  0.23242188,  0.16894531, -0.0035553 ,\n",
       "        0.14550781, -0.2890625 , -0.00668335,  0.37890625,  0.1640625 ,\n",
       "       -0.0612793 , -0.21582031, -0.22363281,  0.08251953,  0.17285156,\n",
       "       -0.0133667 ,  0.24902344,  0.38671875,  0.12060547,  0.02966309,\n",
       "        0.55078125,  0.01544189, -0.05834961,  0.32421875, -0.08496094,\n",
       "        0.31445312,  0.0007019 , -0.08837891, -0.24902344,  0.3046875 ,\n",
       "       -0.00140381,  0.26953125, -0.26757812, -0.05981445, -0.03295898,\n",
       "        0.17089844, -0.13769531,  0.03173828,  0.01574707, -0.32421875,\n",
       "       -0.42382812,  0.16894531,  0.15136719,  0.06542969, -0.08251953,\n",
       "        0.28320312,  0.07177734,  0.23144531,  0.01965332, -0.34765625,\n",
       "        0.04931641,  0.36132812,  0.34570312,  0.1953125 , -0.10302734,\n",
       "       -0.16210938, -0.09863281,  0.22265625,  0.06225586, -0.07324219,\n",
       "       -0.13671875,  0.05102539,  0.3671875 ,  0.20410156,  0.13867188,\n",
       "        0.31054688,  0.02893066,  0.02954102,  0.07666016,  0.15332031,\n",
       "       -0.25195312, -0.05273438, -0.34960938, -0.11230469,  0.1171875 ,\n",
       "       -0.296875  ,  0.04077148, -0.06982422,  0.0016861 , -0.14355469,\n",
       "        0.00891113, -0.13671875,  0.19921875, -0.26757812, -0.29882812,\n",
       "        0.18554688, -0.19433594, -0.18554688,  0.09863281,  0.02026367,\n",
       "       -0.14257812,  0.265625  ,  0.09814453,  0.27734375, -0.16699219,\n",
       "       -0.01489258,  0.265625  ,  0.00521851,  0.13085938,  0.05419922,\n",
       "       -0.13769531,  0.18457031,  0.04321289,  0.515625  , -0.21875   ,\n",
       "        0.07177734,  0.13476562,  0.20800781, -0.06225586, -0.09130859,\n",
       "        0.10009766, -0.05200195, -0.12304688,  0.04711914, -0.24023438,\n",
       "       -0.00744629,  0.00436401, -0.24609375, -0.08837891,  0.2734375 ,\n",
       "        0.19042969, -0.20703125, -0.22265625, -0.05712891, -0.23730469,\n",
       "        0.07177734, -0.03271484,  0.14648438,  0.0168457 ,  0.28710938,\n",
       "        0.41992188, -0.43554688,  0.3046875 ,  0.03417969, -0.2890625 ,\n",
       "       -0.265625  ,  0.2890625 , -0.17285156, -0.07666016,  0.28125   ,\n",
       "       -0.28125   ,  0.19726562,  0.09814453, -0.20898438,  0.03222656,\n",
       "       -0.05395508,  0.16699219, -0.17871094,  0.02819824,  0.01177979,\n",
       "        0.06152344,  0.12792969,  0.05126953, -0.10058594,  0.21582031,\n",
       "        0.17480469,  0.08398438, -0.16503906,  0.00994873, -0.30859375,\n",
       "       -0.23828125,  0.08251953,  0.01391602,  0.05004883,  0.06542969,\n",
       "        0.26171875,  0.24609375, -0.25585938, -0.01300049,  0.17871094,\n",
       "       -0.37109375,  0.18945312,  0.38476562,  0.31640625,  0.16601562,\n",
       "        0.12597656,  0.00970459, -0.09521484, -0.15332031,  0.0267334 ,\n",
       "       -0.19238281,  0.04711914, -0.10595703,  0.13085938,  0.12597656,\n",
       "       -0.47265625, -0.20800781, -0.27734375, -0.20996094,  0.06542969,\n",
       "       -0.15234375, -0.25390625, -0.18847656,  0.00741577, -0.01116943,\n",
       "        0.15527344, -0.10400391,  0.27734375, -0.31054688,  0.21679688,\n",
       "       -0.25195312, -0.06347656,  0.04394531,  0.19433594, -0.18847656,\n",
       "        0.08544922,  0.14160156,  0.203125  ,  0.12695312, -0.04418945,\n",
       "       -0.45117188,  0.09375   ,  0.0703125 , -0.06835938,  0.62890625,\n",
       "       -0.234375  , -0.03540039,  0.05419922,  0.32617188, -0.38671875,\n",
       "        0.18847656, -0.0625    , -0.16894531, -0.08886719,  0.23925781,\n",
       "       -0.27148438, -0.25976562, -0.25195312,  0.09375   , -0.02429199,\n",
       "       -0.01385498, -0.31835938, -0.125     ,  0.16699219,  0.30859375,\n",
       "        0.06738281,  0.01977539, -0.50390625, -0.10302734, -0.00698853,\n",
       "        0.01733398,  0.13476562,  0.25      ,  0.18945312, -0.20800781,\n",
       "       -0.05810547, -0.05419922, -0.38085938, -0.51171875,  0.10302734,\n",
       "       -0.15527344,  0.25585938,  0.17871094, -0.13574219, -0.09716797,\n",
       "        0.12353516,  0.10253906,  0.15917969, -0.16601562,  0.10400391,\n",
       "       -0.23632812, -0.15136719,  0.31640625, -0.01324463,  0.17578125,\n",
       "       -0.11572266, -0.20800781,  0.453125  , -0.00732422,  0.14648438,\n",
       "       -0.09716797, -0.20800781,  0.19824219,  0.08496094, -0.02368164,\n",
       "       -0.05566406,  0.49023438, -0.171875  ,  0.11376953,  0.42382812],\n",
       "      dtype=float32)"
      ]
     },
     "execution_count": 8,
     "metadata": {},
     "output_type": "execute_result"
    }
   ],
   "source": [
    "model['diplomacy']"
   ]
  },
  {
   "cell_type": "code",
   "execution_count": 9,
   "metadata": {},
   "outputs": [
    {
     "data": {
      "text/plain": [
       "(300,)"
      ]
     },
     "execution_count": 9,
     "metadata": {},
     "output_type": "execute_result"
    }
   ],
   "source": [
    "model['diplomacy'].shape"
   ]
  },
  {
   "cell_type": "code",
   "execution_count": 10,
   "metadata": {},
   "outputs": [
    {
     "data": {
      "text/plain": [
       "[('diplomatic', 0.6871803998947144),\n",
       " ('multilateral_diplomacy', 0.6396695375442505),\n",
       " ('multilateralism', 0.6339726448059082),\n",
       " ('Diplomacy', 0.6269881129264832),\n",
       " ('statecraft', 0.5976229906082153),\n",
       " ('unilateralism', 0.5955320000648499),\n",
       " ('multi_lateralism', 0.5846649408340454),\n",
       " ('peacemaking', 0.5830262899398804),\n",
       " ('shuttle_diplomacy', 0.5774914026260376),\n",
       " ('diplomacies', 0.5772987008094788)]"
      ]
     },
     "execution_count": 10,
     "metadata": {},
     "output_type": "execute_result"
    }
   ],
   "source": [
    "model.most_similar('diplomacy')"
   ]
  },
  {
   "cell_type": "code",
   "execution_count": 11,
   "metadata": {},
   "outputs": [
    {
     "data": {
      "text/plain": [
       "[('semiconductors', 0.8283866047859192),\n",
       " ('semi_conductor', 0.7325194478034973),\n",
       " ('Semiconductor', 0.721987783908844),\n",
       " ('chipmakers', 0.7211819291114807),\n",
       " ('integrated_circuits', 0.7031068205833435),\n",
       " ('semiconductor_fabrication', 0.684028685092926),\n",
       " ('semicon', 0.6761022806167603),\n",
       " ('MEMS', 0.6692985892295837),\n",
       " ('analog_ICs', 0.6677776575088501),\n",
       " ('DRAM', 0.6654366254806519)]"
      ]
     },
     "execution_count": 11,
     "metadata": {},
     "output_type": "execute_result"
    }
   ],
   "source": [
    "model.most_similar('semiconductor')"
   ]
  },
  {
   "cell_type": "code",
   "execution_count": 12,
   "metadata": {},
   "outputs": [
    {
     "data": {
      "text/plain": [
       "[('geopolitical', 0.7446204423904419),\n",
       " ('Geopolitics', 0.6150751709938049),\n",
       " ('geostrategic', 0.6144277453422546),\n",
       " ('geostrategy', 0.6136094331741333),\n",
       " ('geoeconomic', 0.6050665378570557),\n",
       " ('geo_strategic', 0.6050125956535339),\n",
       " ('Geopolitical', 0.5849617719650269),\n",
       " ('realpolitik', 0.5704593658447266),\n",
       " ('geopolitical_realities', 0.5390377640724182),\n",
       " ('Geopolitically', 0.5344868898391724)]"
      ]
     },
     "execution_count": 12,
     "metadata": {},
     "output_type": "execute_result"
    }
   ],
   "source": [
    "model.most_similar('geopolitics')"
   ]
  },
  {
   "cell_type": "code",
   "execution_count": 14,
   "metadata": {},
   "outputs": [
    {
     "data": {
      "text/plain": [
       "[('Adolf_Hitler', 0.8693075776100159),\n",
       " ('Adolph_Hitler', 0.8060617446899414),\n",
       " ('Nazis', 0.7699974179267883),\n",
       " ('Nazi', 0.7654680609703064),\n",
       " ('Hilter', 0.7460281848907471),\n",
       " ('Third_Reich', 0.7436985373497009),\n",
       " ('Nazi_Germany', 0.7407960891723633),\n",
       " ('Führer', 0.716090202331543),\n",
       " ('Nazism', 0.6866581439971924),\n",
       " ('Goebbels', 0.6627063751220703)]"
      ]
     },
     "execution_count": 14,
     "metadata": {},
     "output_type": "execute_result"
    }
   ],
   "source": [
    "model.most_similar('Hitler')"
   ]
  },
  {
   "cell_type": "code",
   "execution_count": 16,
   "metadata": {},
   "outputs": [
    {
     "data": {
      "text/plain": [
       "[('Medvedev', 0.8583517670631409),\n",
       " ('Vladimir_Putin', 0.855202317237854),\n",
       " ('President_Vladimir_Putin', 0.8495890498161316),\n",
       " ('Prime_Minister_Vladimir_Putin', 0.7994939088821411),\n",
       " ('Kremlin', 0.7798573970794678),\n",
       " ('Lukashenko', 0.7565115690231323),\n",
       " ('Nazarbayev', 0.7480515837669373),\n",
       " ('Saakashvili', 0.7408694624900818),\n",
       " ('Lukashenka', 0.7388390898704529),\n",
       " ('Yushchenko', 0.7157799601554871)]"
      ]
     },
     "execution_count": 16,
     "metadata": {},
     "output_type": "execute_result"
    }
   ],
   "source": [
    "model.most_similar('Putin')"
   ]
  },
  {
   "cell_type": "code",
   "execution_count": 25,
   "metadata": {},
   "outputs": [
    {
     "data": {
      "text/plain": [
       "[('Intelligence_Agency', 0.7053338289260864),\n",
       " ('CIA_operatives', 0.6862488985061646),\n",
       " ('CIA_operative', 0.6525472402572632),\n",
       " ('covert_CIA', 0.6456333994865417),\n",
       " ('Counterterrorist_Center', 0.6296833753585815),\n",
       " ('outed_covert_CIA', 0.6193694472312927),\n",
       " ('outed_CIA', 0.6177338361740112),\n",
       " ('intelligence', 0.6148777604103088),\n",
       " ('spy', 0.609675407409668),\n",
       " ('C.I.A.', 0.6059565544128418)]"
      ]
     },
     "execution_count": 25,
     "metadata": {},
     "output_type": "execute_result"
    }
   ],
   "source": [
    "model.most_similar('CIA')"
   ]
  },
  {
   "cell_type": "code",
   "execution_count": 28,
   "metadata": {},
   "outputs": [
    {
     "data": {
      "text/plain": [
       "0.09639105"
      ]
     },
     "execution_count": 28,
     "metadata": {},
     "output_type": "execute_result"
    }
   ],
   "source": [
    "model.similarity('putin', 'USA')"
   ]
  },
  {
   "cell_type": "code",
   "execution_count": 29,
   "metadata": {},
   "outputs": [
    {
     "data": {
      "text/plain": [
       "0.50761104"
      ]
     },
     "execution_count": 29,
     "metadata": {},
     "output_type": "execute_result"
    }
   ],
   "source": [
    "model.similarity('putin', 'russia')"
   ]
  },
  {
   "cell_type": "code",
   "execution_count": 30,
   "metadata": {},
   "outputs": [
    {
     "data": {
      "text/plain": [
       "0.46556574"
      ]
     },
     "execution_count": 30,
     "metadata": {},
     "output_type": "execute_result"
    }
   ],
   "source": [
    "model.similarity('diplomacy', 'geopolitics')"
   ]
  },
  {
   "cell_type": "code",
   "execution_count": 33,
   "metadata": {},
   "outputs": [
    {
     "data": {
      "text/plain": [
       "'monkey'"
      ]
     },
     "execution_count": 33,
     "metadata": {},
     "output_type": "execute_result"
    }
   ],
   "source": [
    "model.doesnt_match(['PHP', 'Java', 'monkey'])"
   ]
  },
  {
   "cell_type": "code",
   "execution_count": 34,
   "metadata": {},
   "outputs": [
    {
     "data": {
      "text/plain": [
       "'rain'"
      ]
     },
     "execution_count": 34,
     "metadata": {},
     "output_type": "execute_result"
    }
   ],
   "source": [
    "model.doesnt_match(['diplomacy', 'geopolitics', 'rain'])"
   ]
  },
  {
   "cell_type": "code",
   "execution_count": 35,
   "metadata": {},
   "outputs": [
    {
     "data": {
      "text/plain": [
       "[('INR', 0.6442341208457947),\n",
       " ('GBP', 0.5040826201438904),\n",
       " ('£_##.###m', 0.4540838301181793),\n",
       " ('England', 0.44649264216423035),\n",
       " ('£', 0.43340998888015747),\n",
       " ('Â_£', 0.4307197630405426),\n",
       " ('stg###', 0.4299262464046478),\n",
       " ('£_#.##m', 0.42561304569244385),\n",
       " ('Pounds_Sterling', 0.42512619495391846),\n",
       " ('GBP##', 0.42464491724967957)]"
      ]
     },
     "execution_count": 35,
     "metadata": {},
     "output_type": "execute_result"
    }
   ],
   "source": [
    "vec = model['INR'] - model['India'] + model['England']\n",
    "model.most_similar([vec])"
   ]
  },
  {
   "cell_type": "code",
   "execution_count": null,
   "metadata": {},
   "outputs": [],
   "source": []
  },
  {
   "cell_type": "code",
   "execution_count": null,
   "metadata": {},
   "outputs": [],
   "source": []
  },
  {
   "cell_type": "code",
   "execution_count": null,
   "metadata": {},
   "outputs": [],
   "source": []
  }
 ],
 "metadata": {
  "kernelspec": {
   "display_name": "Python 3",
   "language": "python",
   "name": "python3"
  },
  "language_info": {
   "codemirror_mode": {
    "name": "ipython",
    "version": 3
   },
   "file_extension": ".py",
   "mimetype": "text/x-python",
   "name": "python",
   "nbconvert_exporter": "python",
   "pygments_lexer": "ipython3",
   "version": "3.8.5"
  }
 },
 "nbformat": 4,
 "nbformat_minor": 4
}

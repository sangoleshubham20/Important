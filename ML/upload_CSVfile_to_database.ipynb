{
 "cells": [
  {
   "cell_type": "markdown",
   "metadata": {},
   "source": [
    "### Creating db file from csv"
   ]
  },
  {
   "cell_type": "code",
   "execution_count": 2,
   "metadata": {},
   "outputs": [],
   "source": [
    "import pandas as pd\n",
    "import sqlite3\n",
    "\n",
    "# Step 1. Load the csv file\n",
    "df = pd.read_csv(\"C:\\\\Users\\shubh\\\\Desktop\\\\quora_campusx\\\\quora_train.csv\")\n",
    "\n",
    "# Step 2. Clean column names\n",
    "df.columns = df.columns.str.strip()\n",
    "df.columns = df.columns.str.replace(' ', '')\n",
    "\n",
    "# Step 3. Create/Connect to sqlite database\n",
    "conn = sqlite3.connect(\"C:\\\\Users\\\\shubh\\\\Desktop\\\\quora_campusx\\\\quora_train.db\")\n",
    "\n",
    "# Step 4. Upload csv file to sqlite database\n",
    "df.to_sql(\"C:\\\\Users\\\\shubh\\\\Desktop\\\\quora_campusx\\\\quora_train.csv\", conn, if_exists='replace')\n",
    "\n",
    "# Step 5. Close the connection\n",
    "conn.close()"
   ]
  },
  {
   "cell_type": "code",
   "execution_count": null,
   "metadata": {},
   "outputs": [],
   "source": []
  }
 ],
 "metadata": {
  "kernelspec": {
   "display_name": "Python 3",
   "language": "python",
   "name": "python3"
  },
  "language_info": {
   "codemirror_mode": {
    "name": "ipython",
    "version": 3
   },
   "file_extension": ".py",
   "mimetype": "text/x-python",
   "name": "python",
   "nbconvert_exporter": "python",
   "pygments_lexer": "ipython3",
   "version": "3.8.5"
  }
 },
 "nbformat": 4,
 "nbformat_minor": 4
}

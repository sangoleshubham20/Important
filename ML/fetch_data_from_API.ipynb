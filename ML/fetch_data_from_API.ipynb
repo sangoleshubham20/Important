{
 "cells": [
  {
   "cell_type": "markdown",
   "metadata": {},
   "source": [
    "# TMDB"
   ]
  },
  {
   "cell_type": "markdown",
   "metadata": {},
   "source": [
    "https://api.themoviedb.org/3/movie/top_rated?api_key=9047074b33a9c918ef32418caeaeeb07&language=en-US&page=1"
   ]
  },
  {
   "cell_type": "markdown",
   "metadata": {},
   "source": [
    "##### Pulling data without genres"
   ]
  },
  {
   "cell_type": "code",
   "execution_count": 36,
   "metadata": {},
   "outputs": [],
   "source": [
    "import pandas as pd\n",
    "import requests\n",
    "\n",
    "df = pd.DataFrame()\n",
    "\n",
    "# Looping through 500 pages. Each page has 20 movies.\n",
    "for i in range(1,501):\n",
    "    response = requests.get('https://api.themoviedb.org/3/movie/top_rated?api_key=9047074b33a9c918ef32418caeaeeb07&language=en-US&page={}'.format(i))\n",
    "    temp_df = pd.DataFrame(response.json()['results'])[['id','title','overview','release_date','popularity','vote_average','vote_count']]\n",
    "    df = df.append(temp_df,ignore_index=True)"
   ]
  },
  {
   "cell_type": "code",
   "execution_count": 55,
   "metadata": {
    "scrolled": true
   },
   "outputs": [
    {
     "name": "stdout",
     "output_type": "stream",
     "text": [
      "(10000, 7)\n"
     ]
    },
    {
     "data": {
      "text/html": [
       "<div>\n",
       "<style scoped>\n",
       "    .dataframe tbody tr th:only-of-type {\n",
       "        vertical-align: middle;\n",
       "    }\n",
       "\n",
       "    .dataframe tbody tr th {\n",
       "        vertical-align: top;\n",
       "    }\n",
       "\n",
       "    .dataframe thead th {\n",
       "        text-align: right;\n",
       "    }\n",
       "</style>\n",
       "<table border=\"1\" class=\"dataframe\">\n",
       "  <thead>\n",
       "    <tr style=\"text-align: right;\">\n",
       "      <th></th>\n",
       "      <th>id</th>\n",
       "      <th>title</th>\n",
       "      <th>overview</th>\n",
       "      <th>release_date</th>\n",
       "      <th>popularity</th>\n",
       "      <th>vote_average</th>\n",
       "      <th>vote_count</th>\n",
       "    </tr>\n",
       "  </thead>\n",
       "  <tbody>\n",
       "    <tr>\n",
       "      <th>0</th>\n",
       "      <td>238</td>\n",
       "      <td>The Godfather</td>\n",
       "      <td>Spanning the years 1945 to 1955, a chronicle o...</td>\n",
       "      <td>1972-03-14</td>\n",
       "      <td>125.665</td>\n",
       "      <td>8.7</td>\n",
       "      <td>18577</td>\n",
       "    </tr>\n",
       "    <tr>\n",
       "      <th>1</th>\n",
       "      <td>278</td>\n",
       "      <td>The Shawshank Redemption</td>\n",
       "      <td>Framed in the 1940s for the double murder of h...</td>\n",
       "      <td>1994-09-23</td>\n",
       "      <td>105.936</td>\n",
       "      <td>8.7</td>\n",
       "      <td>24532</td>\n",
       "    </tr>\n",
       "    <tr>\n",
       "      <th>2</th>\n",
       "      <td>240</td>\n",
       "      <td>The Godfather Part II</td>\n",
       "      <td>In the continuing saga of the Corleone crime f...</td>\n",
       "      <td>1974-12-20</td>\n",
       "      <td>58.687</td>\n",
       "      <td>8.6</td>\n",
       "      <td>11218</td>\n",
       "    </tr>\n",
       "  </tbody>\n",
       "</table>\n",
       "</div>"
      ],
      "text/plain": [
       "    id                     title  \\\n",
       "0  238             The Godfather   \n",
       "1  278  The Shawshank Redemption   \n",
       "2  240     The Godfather Part II   \n",
       "\n",
       "                                            overview release_date  popularity  \\\n",
       "0  Spanning the years 1945 to 1955, a chronicle o...   1972-03-14     125.665   \n",
       "1  Framed in the 1940s for the double murder of h...   1994-09-23     105.936   \n",
       "2  In the continuing saga of the Corleone crime f...   1974-12-20      58.687   \n",
       "\n",
       "   vote_average  vote_count  \n",
       "0           8.7       18577  \n",
       "1           8.7       24532  \n",
       "2           8.6       11218  "
      ]
     },
     "execution_count": 55,
     "metadata": {},
     "output_type": "execute_result"
    }
   ],
   "source": [
    "print(df.shape)\n",
    "df.head(3)"
   ]
  },
  {
   "cell_type": "markdown",
   "metadata": {},
   "source": [
    "##### Pulling data with genres"
   ]
  },
  {
   "cell_type": "code",
   "execution_count": 44,
   "metadata": {},
   "outputs": [],
   "source": [
    "import tmdbsimple as tmdb"
   ]
  },
  {
   "cell_type": "code",
   "execution_count": 45,
   "metadata": {},
   "outputs": [],
   "source": [
    "tmdb.API_KEY = '9047074b33a9c918ef32418caeaeeb07'"
   ]
  },
  {
   "cell_type": "code",
   "execution_count": 47,
   "metadata": {},
   "outputs": [],
   "source": [
    "search = tmdb.Search()"
   ]
  },
  {
   "cell_type": "code",
   "execution_count": 48,
   "metadata": {},
   "outputs": [],
   "source": [
    "genre = tmdb.Genres()"
   ]
  },
  {
   "cell_type": "code",
   "execution_count": 49,
   "metadata": {},
   "outputs": [],
   "source": [
    "genres_lst = genre.movie_list()"
   ]
  },
  {
   "cell_type": "code",
   "execution_count": 50,
   "metadata": {},
   "outputs": [
    {
     "data": {
      "text/plain": [
       "[878, 28, 12]"
      ]
     },
     "execution_count": 50,
     "metadata": {},
     "output_type": "execute_result"
    }
   ],
   "source": [
    "search.movie(query='The Avengers')['results'][0]['genre_ids']"
   ]
  },
  {
   "cell_type": "code",
   "execution_count": 53,
   "metadata": {},
   "outputs": [
    {
     "name": "stdout",
     "output_type": "stream",
     "text": [
      "{'genres': [{'id': 28, 'name': 'Action'}, {'id': 12, 'name': 'Adventure'}, {'id': 16, 'name': 'Animation'}, {'id': 35, 'name': 'Comedy'}, {'id': 80, 'name': 'Crime'}, {'id': 99, 'name': 'Documentary'}, {'id': 18, 'name': 'Drama'}, {'id': 10751, 'name': 'Family'}, {'id': 14, 'name': 'Fantasy'}, {'id': 36, 'name': 'History'}, {'id': 27, 'name': 'Horror'}, {'id': 10402, 'name': 'Music'}, {'id': 9648, 'name': 'Mystery'}, {'id': 10749, 'name': 'Romance'}, {'id': 878, 'name': 'Science Fiction'}, {'id': 10770, 'name': 'TV Movie'}, {'id': 53, 'name': 'Thriller'}, {'id': 10752, 'name': 'War'}, {'id': 37, 'name': 'Western'}]}\n"
     ]
    }
   ],
   "source": [
    "print(genres_lst)"
   ]
  },
  {
   "cell_type": "code",
   "execution_count": 54,
   "metadata": {},
   "outputs": [],
   "source": [
    "def genre_labeller(movie_title):\n",
    "\n",
    "    \"\"\"\n",
    "    This function takes a movie title as a parameter\n",
    "    and returns a list of genres associated with respected movie\n",
    "\n",
    "    \"\"\"\n",
    "    \n",
    "    lst = []\n",
    "    \n",
    "    #the api could have multiple results\n",
    "    #this function tries different results if genre list is empty in first result\n",
    "    #up to three results\n",
    "    try:\n",
    "        for i in search.movie(query=movie_title)['results'][0]['genre_ids']: #loops through list of genre ids\n",
    "            for x in genres_lst['genres']: #loops through list of genres\n",
    "                if x['id'] == i: #appends genre to lst if id matches the id from the query\n",
    "                    lst.append(x['name'])\n",
    "                else:\n",
    "                    continue\n",
    "    except:\n",
    "        pass\n",
    "\n",
    "    if len(lst) == 0: #tries another query if the first one fails, up to three times\n",
    "        try:\n",
    "            for i in search.movie(query=movie_title)['results'][1]['genre_ids']:\n",
    "                for x in genres_lst['genres']:\n",
    "                    if x['id'] == i:\n",
    "                        lst.append(x['name'])\n",
    "                    else:\n",
    "                        continue\n",
    "        except:\n",
    "            pass\n",
    "\n",
    "    if len(lst) == 0:\n",
    "        try:\n",
    "            for i in search.movie(query=movie_title)['results'][2]['genre_ids']:\n",
    "                for x in genres_lst['genres']:\n",
    "                    if x['id'] == i:\n",
    "                        lst.append(x['name'])\n",
    "                    else:\n",
    "                        continue\n",
    "        except:\n",
    "            pass\n",
    "\n",
    "    #some movie titles have 'the' before title name\n",
    "    if len(lst) == 0:\n",
    "        try:\n",
    "            for i in search.movie(query='The '+ movie_title)['results'][0]['genre_ids']:\n",
    "                for x in genres_lst['genres']:\n",
    "                    if x['id'] == i:\n",
    "                        lst.append(x['name'])\n",
    "                    else:\n",
    "                        continue\n",
    "        except:\n",
    "            pass\n",
    "\n",
    "    \n",
    "    return lst"
   ]
  },
  {
   "cell_type": "code",
   "execution_count": 56,
   "metadata": {},
   "outputs": [],
   "source": [
    "df['genre'] = df['title'].apply(lambda x: genre_labeller(x))"
   ]
  },
  {
   "cell_type": "code",
   "execution_count": 59,
   "metadata": {},
   "outputs": [
    {
     "data": {
      "text/html": [
       "<div>\n",
       "<style scoped>\n",
       "    .dataframe tbody tr th:only-of-type {\n",
       "        vertical-align: middle;\n",
       "    }\n",
       "\n",
       "    .dataframe tbody tr th {\n",
       "        vertical-align: top;\n",
       "    }\n",
       "\n",
       "    .dataframe thead th {\n",
       "        text-align: right;\n",
       "    }\n",
       "</style>\n",
       "<table border=\"1\" class=\"dataframe\">\n",
       "  <thead>\n",
       "    <tr style=\"text-align: right;\">\n",
       "      <th></th>\n",
       "      <th>title</th>\n",
       "      <th>overview</th>\n",
       "      <th>genre</th>\n",
       "    </tr>\n",
       "  </thead>\n",
       "  <tbody>\n",
       "    <tr>\n",
       "      <th>0</th>\n",
       "      <td>The Godfather</td>\n",
       "      <td>Spanning the years 1945 to 1955, a chronicle o...</td>\n",
       "      <td>[Drama, Crime]</td>\n",
       "    </tr>\n",
       "    <tr>\n",
       "      <th>1</th>\n",
       "      <td>The Shawshank Redemption</td>\n",
       "      <td>Framed in the 1940s for the double murder of h...</td>\n",
       "      <td>[Drama, Crime]</td>\n",
       "    </tr>\n",
       "    <tr>\n",
       "      <th>2</th>\n",
       "      <td>The Godfather Part II</td>\n",
       "      <td>In the continuing saga of the Corleone crime f...</td>\n",
       "      <td>[Drama, Crime]</td>\n",
       "    </tr>\n",
       "    <tr>\n",
       "      <th>3</th>\n",
       "      <td>Schindler's List</td>\n",
       "      <td>The true story of how businessman Oskar Schind...</td>\n",
       "      <td>[Drama, History, War]</td>\n",
       "    </tr>\n",
       "    <tr>\n",
       "      <th>4</th>\n",
       "      <td>Dilwale Dulhania Le Jayenge</td>\n",
       "      <td>Raj is a rich, carefree, happy-go-lucky second...</td>\n",
       "      <td>[Comedy, Drama, Romance]</td>\n",
       "    </tr>\n",
       "    <tr>\n",
       "      <th>...</th>\n",
       "      <td>...</td>\n",
       "      <td>...</td>\n",
       "      <td>...</td>\n",
       "    </tr>\n",
       "    <tr>\n",
       "      <th>9995</th>\n",
       "      <td>Urban Legend</td>\n",
       "      <td>A college campus is plagued by a vicious seria...</td>\n",
       "      <td>[Horror, Thriller]</td>\n",
       "    </tr>\n",
       "    <tr>\n",
       "      <th>9996</th>\n",
       "      <td>The Order</td>\n",
       "      <td>For centuries, a secret Order of priests has e...</td>\n",
       "      <td>[Drama, Fantasy, Horror, Mystery, Romance, Thr...</td>\n",
       "    </tr>\n",
       "    <tr>\n",
       "      <th>9997</th>\n",
       "      <td>247 Degrees Fahrenheit</td>\n",
       "      <td>Four friends travel to a lakeside cabin for a ...</td>\n",
       "      <td>[Horror, Thriller]</td>\n",
       "    </tr>\n",
       "    <tr>\n",
       "      <th>9998</th>\n",
       "      <td>The Stepford Wives</td>\n",
       "      <td>What does it take to become a Stepford wife, a...</td>\n",
       "      <td>[Horror, Mystery, Science Fiction, Thriller]</td>\n",
       "    </tr>\n",
       "    <tr>\n",
       "      <th>9999</th>\n",
       "      <td>The Tax Collector</td>\n",
       "      <td>David Cuevas is a family man who works as a ga...</td>\n",
       "      <td>[Action, Crime, Drama]</td>\n",
       "    </tr>\n",
       "  </tbody>\n",
       "</table>\n",
       "<p>10000 rows × 3 columns</p>\n",
       "</div>"
      ],
      "text/plain": [
       "                            title  \\\n",
       "0                   The Godfather   \n",
       "1        The Shawshank Redemption   \n",
       "2           The Godfather Part II   \n",
       "3                Schindler's List   \n",
       "4     Dilwale Dulhania Le Jayenge   \n",
       "...                           ...   \n",
       "9995                 Urban Legend   \n",
       "9996                    The Order   \n",
       "9997       247 Degrees Fahrenheit   \n",
       "9998           The Stepford Wives   \n",
       "9999            The Tax Collector   \n",
       "\n",
       "                                               overview  \\\n",
       "0     Spanning the years 1945 to 1955, a chronicle o...   \n",
       "1     Framed in the 1940s for the double murder of h...   \n",
       "2     In the continuing saga of the Corleone crime f...   \n",
       "3     The true story of how businessman Oskar Schind...   \n",
       "4     Raj is a rich, carefree, happy-go-lucky second...   \n",
       "...                                                 ...   \n",
       "9995  A college campus is plagued by a vicious seria...   \n",
       "9996  For centuries, a secret Order of priests has e...   \n",
       "9997  Four friends travel to a lakeside cabin for a ...   \n",
       "9998  What does it take to become a Stepford wife, a...   \n",
       "9999  David Cuevas is a family man who works as a ga...   \n",
       "\n",
       "                                                  genre  \n",
       "0                                        [Drama, Crime]  \n",
       "1                                        [Drama, Crime]  \n",
       "2                                        [Drama, Crime]  \n",
       "3                                 [Drama, History, War]  \n",
       "4                              [Comedy, Drama, Romance]  \n",
       "...                                                 ...  \n",
       "9995                                 [Horror, Thriller]  \n",
       "9996  [Drama, Fantasy, Horror, Mystery, Romance, Thr...  \n",
       "9997                                 [Horror, Thriller]  \n",
       "9998       [Horror, Mystery, Science Fiction, Thriller]  \n",
       "9999                             [Action, Crime, Drama]  \n",
       "\n",
       "[10000 rows x 3 columns]"
      ]
     },
     "execution_count": 59,
     "metadata": {},
     "output_type": "execute_result"
    }
   ],
   "source": [
    "df.loc[:, ['title', 'overview', 'genre']]"
   ]
  },
  {
   "cell_type": "code",
   "execution_count": 60,
   "metadata": {},
   "outputs": [],
   "source": [
    "df.to_csv(\"C:\\\\Users\\\\shubh\\\\Desktop\\\\Important_IPYNB_files\\\\NLP\\\\Other_files\\\\tmdb_data.csv\")"
   ]
  },
  {
   "cell_type": "code",
   "execution_count": null,
   "metadata": {},
   "outputs": [],
   "source": []
  },
  {
   "cell_type": "code",
   "execution_count": null,
   "metadata": {},
   "outputs": [],
   "source": []
  },
  {
   "cell_type": "code",
   "execution_count": null,
   "metadata": {},
   "outputs": [],
   "source": []
  },
  {
   "cell_type": "code",
   "execution_count": null,
   "metadata": {},
   "outputs": [],
   "source": []
  },
  {
   "cell_type": "code",
   "execution_count": null,
   "metadata": {},
   "outputs": [],
   "source": []
  },
  {
   "cell_type": "code",
   "execution_count": null,
   "metadata": {},
   "outputs": [],
   "source": []
  },
  {
   "cell_type": "code",
   "execution_count": null,
   "metadata": {},
   "outputs": [],
   "source": []
  },
  {
   "cell_type": "code",
   "execution_count": null,
   "metadata": {},
   "outputs": [],
   "source": []
  }
 ],
 "metadata": {
  "kernelspec": {
   "display_name": "Python 3",
   "language": "python",
   "name": "python3"
  },
  "language_info": {
   "codemirror_mode": {
    "name": "ipython",
    "version": 3
   },
   "file_extension": ".py",
   "mimetype": "text/x-python",
   "name": "python",
   "nbconvert_exporter": "python",
   "pygments_lexer": "ipython3",
   "version": "3.8.5"
  }
 },
 "nbformat": 4,
 "nbformat_minor": 4
}
